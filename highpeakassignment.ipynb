{
  "nbformat": 4,
  "nbformat_minor": 0,
  "metadata": {
    "colab": {
      "name": "highpeakassignment.ipynb",
      "provenance": []
    },
    "kernelspec": {
      "name": "python3",
      "display_name": "Python 3"
    },
    "language_info": {
      "name": "python"
    }
  },
  "cells": [
    {
      "cell_type": "code",
      "metadata": {
        "id": "xZKS5oxjWo5E"
      },
      "source": [
        "import sys\n",
        "opfile = open(\"output.txt\",\"w\") #output file to display the output\n",
        "ipfile = open(\"sample_input_test.txt\",\"r\") #file name can be changed from the list for input"
      ],
      "execution_count": 48,
      "outputs": []
    },
    {
      "cell_type": "code",
      "metadata": {
        "id": "ylnvxuzmW-LQ"
      },
      "source": [
        "#read the input file \n",
        "content = ipfile.readlines()\n",
        "a = {}\n",
        "b = {}\n",
        "employees = int(content[0].split(\": \")[1])\n",
        "goodies = content[4:]\n",
        "prices = []\n",
        "for item in goodies:\n",
        "    if item[-2:] == \"\\n\":\n",
        "        item = item.split(\": \")\n",
        "        name,price = item[0],int(item[1][:-1])\n",
        "    else:\n",
        "        item = item.split(\": \")\n",
        "        name,price = item[0],int(item[1])\n",
        "    prices.append(price)\n",
        "    a[name] = price\n",
        "sortprices = sorted(prices) #sort the prices\n",
        "diff = []"
      ],
      "execution_count": 49,
      "outputs": []
    },
    {
      "cell_type": "code",
      "metadata": {
        "id": "aANA-4KdXBKp"
      },
      "source": [
        "#difference between the low price goodie and the high price goodie\n",
        "for i in range(len(prices)-employees):\n",
        "    diff.append(sortprices[i+employees-1] - sortprices[i])\n",
        "for i in a:\n",
        "    b[a[i]] = i\n",
        "ind = diff.index(min(diff))\n",
        "\n",
        "# Writing the result in output.txt file\n",
        "out = [\"The goodies selected for distribution are:\\n\",\"\\n\"]\n",
        "for i in sortprices[ind:ind+employees]:\n",
        "    out.append(b[i] + \": \" + str(i) + \"\\n\")\n",
        "out.append(\"\\n\")\n",
        "out.append(\"And the difference between the chosen goodie with highest price and the lowest price is \" + str(min(diff)))\n",
        "opfile.writelines(out)\n",
        "opfile.close()"
      ],
      "execution_count": 50,
      "outputs": []
    }
  ]
}